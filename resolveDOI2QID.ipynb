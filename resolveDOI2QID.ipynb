{
 "cells": [
  {
   "cell_type": "code",
   "execution_count": 34,
   "metadata": {},
   "outputs": [
    {
     "data": {
      "application/vnd.jupyter.widget-view+json": {
       "model_id": "42fe66c2683e486ab2ff65f263fe577f",
       "version_major": 2,
       "version_minor": 0
      },
      "text/plain": [
       "VBox(children=(VBox(children=(Label(value='Login to Wikidata'), Text(value='', description='Username'), Passwo…"
      ]
     },
     "metadata": {},
     "output_type": "display_data"
    }
   ],
   "source": [
    "from wikidataintegrator import wdi_core, wdi_login, wdi_helpers\n",
    "from wikidataintegrator.wdi_helpers import try_write\n",
    "from getpass import getpass\n",
    "import ipywidgets as widgets\n",
    "from IPython.display import IFrame, clear_output\n",
    "\n",
    "## Login panel\n",
    "### Label\n",
    "wikidata = widgets.Label(value=\"Login to Wikidata\")\n",
    "\n",
    "### Username\n",
    "username_textbox = widgets.Text(\n",
    "       value=\"\",\n",
    "        description=\"Username\",\n",
    ")\n",
    "## Password\n",
    "password_textbox = widgets.Password(description='Password:')\n",
    "## Button\n",
    "loginbutton = widgets.Button(description=\"login\")\n",
    "## Login as\n",
    "loginlabel = widgets.Label(value=\"\")\n",
    "\n",
    "@loginbutton.on_click\n",
    "def wdlogin(b):\n",
    "    login = wdi_login.WDLogin(username_textbox.value, password_textbox.value)\n",
    "    creds = login.generate_edit_credentials()\n",
    "    koekjes = creds.get_dict()\n",
    "    loginlabel.value=\"Logged in to Wikidata as User: \"+koekjes[\"wikidatawikiUserName\"]\n",
    "    b.login = login\n",
    "\n",
    "loginPane = widgets.VBox(children=[wikidata, username_textbox, password_textbox, loginbutton, loginlabel])\n",
    "\n",
    "### Tabs to identifier resolvers\n",
    "#### Citations\n",
    "doi_textbox = widgets.Text(\n",
    "    value='',\n",
    "    description='DOI',\n",
    ")\n",
    "     \n",
    "wddoilabel = widgets.Label(value=\"\")\n",
    "\n",
    "doi_textbox = widgets.Text(\n",
    "    value='',\n",
    "    description='DOI',\n",
    ")\n",
    "\n",
    "progressbar = widgets.Output()\n",
    "\n",
    "\n",
    "file = open(\"WikiciteWikidata.gif\", \"rb\")\n",
    "image = file.read()\n",
    "progressgif = widgets.Image(\n",
    "    value=image,\n",
    "    format='gif',\n",
    "    width=300,\n",
    "    height=400,\n",
    ")\n",
    "\n",
    "# progressgif = IFrame(src=\"WikiciteWikidata\", width=\"50\", height=\"50\")\n",
    "\n",
    "DOIbutton = widgets.Button(\n",
    "    description='Wikidata',\n",
    ")\n",
    "@DOIbutton.on_click\n",
    "def DOIresolve(b):\n",
    "    print(doi_textbox.value)\n",
    "    with progressbar:\n",
    "        clear_output()\n",
    "        display(progressgif)\n",
    "    doi_qid, _, _ = wdi_helpers.PublicationHelper(doi_textbox.value, id_type=\"doi\",source=\"crossref\").get_or_create(loginbutton.login)\n",
    "    print(loginbutton.login)\n",
    "    with progressbar:\n",
    "        clear_output()\n",
    "\n",
    "        ## Result tabs\n",
    "        wikidatatab = IFrame(src='https://www.wikidata.org/wiki/'+doi_qid, width=1000, height=600)\n",
    "        scholiatab = IFrame(src='https://scholia.toolforge.org/work/'+doi_qid, width=1000, height=600)\n",
    "        tab1 = widgets.Output()\n",
    "        tab2 = widgets.Output()\n",
    "        tab = widgets.Tab(children=[\n",
    "            tab1,\n",
    "            tab2])\n",
    "        with tab1:\n",
    "            display(wikidatatab)\n",
    "        with tab2:\n",
    "            display(scholiatab)\n",
    "        tab.set_title(0, 'Wikidata')\n",
    "        tab.set_title(1, 'Scholia')\n",
    "        display(tab)\n",
    "\n",
    "form = widgets.VBox(children=[doi_textbox, DOIbutton, progressbar]) # Citations\n",
    "widgets.VBox(children=[loginPane, form])"
   ]
  },
  {
   "cell_type": "code",
   "execution_count": null,
   "metadata": {},
   "outputs": [],
   "source": []
  }
 ],
 "metadata": {
  "kernelspec": {
   "display_name": "Python 3",
   "language": "python",
   "name": "python3"
  },
  "language_info": {
   "codemirror_mode": {
    "name": "ipython",
    "version": 3
   },
   "file_extension": ".py",
   "mimetype": "text/x-python",
   "name": "python",
   "nbconvert_exporter": "python",
   "pygments_lexer": "ipython3",
   "version": "3.6.9"
  }
 },
 "nbformat": 4,
 "nbformat_minor": 4
}
